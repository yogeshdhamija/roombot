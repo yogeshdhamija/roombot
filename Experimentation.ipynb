{
 "cells": [
  {
   "cell_type": "code",
   "execution_count": 1,
   "id": "400940b7-da50-4a1b-9c57-042f85ad9473",
   "metadata": {},
   "outputs": [
    {
     "name": "stdout",
     "output_type": "stream",
     "text": [
      "Environment check goes brrr...\n"
     ]
    }
   ],
   "source": [
    "import sys, os\n",
    "\n",
    "print(\"Environment check goes brrr...\")\n",
    "assert(sys.executable.split('/')[-3] == 'conda-env')\n",
    "assert(os.environ.get('ENVIRONMENT_LOADED') == 'roombot')\n"
   ]
  },
  {
   "cell_type": "code",
   "execution_count": 4,
   "id": "e1b5e1ca-2a71-4aba-a0c9-240aace1febf",
   "metadata": {},
   "outputs": [],
   "source": [
    "import llm, sqlite_utils"
   ]
  },
  {
   "cell_type": "code",
   "execution_count": 5,
   "id": "64b96f29-19aa-4e32-8503-a6c0bd14d2e8",
   "metadata": {},
   "outputs": [],
   "source": [
    "db = sqlite_utils.Database(\"./my-embeddings.db\")"
   ]
  },
  {
   "cell_type": "code",
   "execution_count": 6,
   "id": "b4bcf186-2b0d-4c6d-9658-b19b3b3ebe2b",
   "metadata": {},
   "outputs": [],
   "source": [
    "collection = llm.Collection(\"entries\", db, model_id=\"3-small\")"
   ]
  },
  {
   "cell_type": "code",
   "execution_count": 10,
   "id": "6b83ce5a-284c-473d-93f8-0fc80c70c9cf",
   "metadata": {},
   "outputs": [],
   "source": [
    "collection.embed(\"1\", \"testing testing 123\", store=True, metadata={})"
   ]
  },
  {
   "cell_type": "code",
   "execution_count": null,
   "id": "f5126fb6-0645-4a6c-9184-698730d2a1d3",
   "metadata": {},
   "outputs": [],
   "source": []
  }
 ],
 "metadata": {
  "kernelspec": {
   "display_name": "Python 3 (ipykernel)",
   "language": "python",
   "name": "python3"
  },
  "language_info": {
   "codemirror_mode": {
    "name": "ipython",
    "version": 3
   },
   "file_extension": ".py",
   "mimetype": "text/x-python",
   "name": "python",
   "nbconvert_exporter": "python",
   "pygments_lexer": "ipython3",
   "version": "3.12.5"
  }
 },
 "nbformat": 4,
 "nbformat_minor": 5
}
