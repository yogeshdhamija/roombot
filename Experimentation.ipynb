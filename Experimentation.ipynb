{
 "cells": [
  {
   "cell_type": "code",
   "execution_count": 104,
   "id": "0c507a98-825a-46a5-acf6-27a357862e63",
   "metadata": {},
   "outputs": [],
   "source": [
    "import sys, os\n",
    "from pathlib import Path\n",
    "import llm, sqlite_utils\n",
    "from itertools import batched"
   ]
  },
  {
   "cell_type": "code",
   "execution_count": 105,
   "id": "400940b7-da50-4a1b-9c57-042f85ad9473",
   "metadata": {},
   "outputs": [
    {
     "name": "stdout",
     "output_type": "stream",
     "text": [
      "Environment check goes brrr...\n"
     ]
    }
   ],
   "source": [
    "print(\"Environment check goes brrr...\")\n",
    "assert(sys.executable.split('/')[-3] == 'conda-env')\n",
    "assert(os.environ.get('ENVIRONMENT_LOADED') == 'roombot')"
   ]
  },
  {
   "cell_type": "code",
   "execution_count": 106,
   "id": "e1b5e1ca-2a71-4aba-a0c9-240aace1febf",
   "metadata": {},
   "outputs": [
    {
     "name": "stdout",
     "output_type": "stream",
     "text": [
      "Database create (or load) goes brrr...\n",
      "   ...brrr... creating path if not exist\n",
      "   ...brrr... loading db\n"
     ]
    }
   ],
   "source": [
    "print(\"Database create (or load) goes brrr...\")\n",
    "\n",
    "print(\"   ...brrr... creating path if not exist\")\n",
    "db_dir = \"./db/\"\n",
    "Path(db_dir).mkdir(parents=True, exist_ok=True)\n",
    "\n",
    "print(\"   ...brrr... loading db\")\n",
    "db_file = db_dir + \"embeddings.db\"\n",
    "db = sqlite_utils.Database(db_file)"
   ]
  },
  {
   "cell_type": "code",
   "execution_count": 107,
   "id": "64b96f29-19aa-4e32-8503-a6c0bd14d2e8",
   "metadata": {},
   "outputs": [
    {
     "name": "stdout",
     "output_type": "stream",
     "text": [
      "Embeddings collection create (or load) goes brrr...\n",
      "   ...brrr... getting embedding model\n",
      "   ...brrr... deleting pre-existing embedding collection in db\n",
      "   ...brrr... creating embedding collection in db\n"
     ]
    }
   ],
   "source": [
    "print(\"Embeddings collection create (or load) goes brrr...\")\n",
    "\n",
    "print(\"   ...brrr... getting embedding model\")\n",
    "model_id = \"3-large\"\n",
    "model = llm.get_embedding_model(model_id)\n",
    "\n",
    "collection_name = \"code-collection\"\n",
    "\n",
    "if llm.Collection.exists(db, collection_name):\n",
    "    print(\"   ...brrr... deleting pre-existing embedding collection in db\")\n",
    "    collection = llm.Collection(collection_name, db, model=model)\n",
    "    collection.delete()\n",
    "    \n",
    "print(\"   ...brrr... creating embedding collection in db\")\n",
    "collection = llm.Collection(collection_name, db, model=model)\n"
   ]
  },
  {
   "cell_type": "code",
   "execution_count": 108,
   "id": "b4bcf186-2b0d-4c6d-9658-b19b3b3ebe2b",
   "metadata": {},
   "outputs": [
    {
     "name": "stdout",
     "output_type": "stream",
     "text": [
      "Reading code goes brrr...\n",
      "    ...brrr... Finding code to embed\n",
      "        ...brr... using directory: ../yawa/src/\n"
     ]
    }
   ],
   "source": [
    "print(\"Reading code goes brrr...\")\n",
    "\n",
    "print(\"    ...brrr... Finding code to embed\")\n",
    "code_dir = os.environ['ROOMBOT_CODE_DIR'].rstrip('/') + '/'\n",
    "to_embed = [\n",
    "    # (id, code, metadata)\n",
    "]\n",
    "\n",
    "print(\"        ...brr... using directory:\", code_dir)\n",
    "i = 0\n",
    "for path in Path(code_dir).glob(\"**/*\"):\n",
    "    if path.is_file():\n",
    "        code = path.read_text()\n",
    "        lines = code.splitlines()\n",
    "        snippets = batched(lines, 30)\n",
    "        for snippet in snippets:\n",
    "            s = \"\\n\".join(snippet)\n",
    "            to_embed.append((i, s, {\"path\": str(path)}))\n",
    "            i += 1\n",
    "\n",
    "# print(\"        ...brr... using hardcoded code\")\n",
    "# to_embed = [\n",
    "#     (1, \"// good code\", {\"path\": \"good\"}),\n",
    "#     (2, \"// bad code\", {\"path\": \"bad\"}),\n",
    "# ]"
   ]
  },
  {
   "cell_type": "code",
   "execution_count": 109,
   "id": "c5a835aa-12a9-46e8-952c-706ba2da02e3",
   "metadata": {},
   "outputs": [
    {
     "name": "stdout",
     "output_type": "stream",
     "text": [
      "Embedding goes brrr...\n",
      "    ...brrr... Embedding into db collection\n",
      "        ...brrr... OpenAI money decreasing\n"
     ]
    }
   ],
   "source": [
    "print(\"Embedding goes brrr...\")\n",
    "print(\"    ...brrr... Embedding into db collection\")\n",
    "print(\"        ...brrr... OpenAI money decreasing\")\n",
    "collection.embed_multi_with_metadata(to_embed, store=True)"
   ]
  },
  {
   "cell_type": "code",
   "execution_count": 110,
   "id": "6b83ce5a-284c-473d-93f8-0fc80c70c9cf",
   "metadata": {},
   "outputs": [
    {
     "name": "stdout",
     "output_type": "stream",
     "text": [
      "Searching embeddings goes brrr...\n",
      "    ...brrr... OpenAI money decreasing\n",
      ">>>>>>>>>>>>>>>>>>>>>>>>>>>>>>>>>>>>>>>>>>>>>>>>>>>>>>>>>>>>>>>>>>>>>>>>>>>>>>>>>>>>>>>>>>>>>>>>\n",
      "\n",
      "\n",
      "CODE:\n",
      "    }\n",
      "}\n",
      "\n",
      "\n",
      "METADATA:\n",
      "{'path': '../yawa/src/programs.rs'}\n",
      "<<<<<<<<<<<<<<<<<<<<<<<<<<<<<<<<<<<<<<<<<<<<<<<<<<<<<<<<<<<<<<<<<<<<<<<<<<<<<<<<<<<<<<<<<<<<<<<<\n",
      ">>>>>>>>>>>>>>>>>>>>>>>>>>>>>>>>>>>>>>>>>>>>>>>>>>>>>>>>>>>>>>>>>>>>>>>>>>>>>>>>>>>>>>>>>>>>>>>>\n",
      "\n",
      "\n",
      "CODE:\n",
      "pub mod cli;\n",
      "\n",
      "\n",
      "METADATA:\n",
      "{'path': '../yawa/src/controllers/mod.rs'}\n",
      "<<<<<<<<<<<<<<<<<<<<<<<<<<<<<<<<<<<<<<<<<<<<<<<<<<<<<<<<<<<<<<<<<<<<<<<<<<<<<<<<<<<<<<<<<<<<<<<<\n",
      ">>>>>>>>>>>>>>>>>>>>>>>>>>>>>>>>>>>>>>>>>>>>>>>>>>>>>>>>>>>>>>>>>>>>>>>>>>>>>>>>>>>>>>>>>>>>>>>>\n",
      "\n",
      "\n",
      "CODE:\n",
      "        );\n",
      "    }\n",
      "\n",
      "    #[test]\n",
      "    fn all_non_reference_weights_initialized() {\n",
      "        assert_eq!(\n",
      "            format!(\"{}\", start_gzcl_4day(100).next_workout()[3]),\n",
      "            \"Face Pull -> 2x15,1x15-25 @ 30\"\n",
      "        );\n",
      "        assert_eq!(\n",
      "            format!(\"{}\", start_gzcl_4day(100).next_workout()[4]),\n",
      "            \"Cable Curl -> 2x15,1x15-25 @ 20\"\n",
      "        );\n",
      "    }\n",
      "\n",
      "    mod incrementing {\n",
      "        use super::*;\n",
      "        use crate::lifting::LiftAttemptResult::{Completed, NotCompleted};\n",
      "\n",
      "        #[test]\n",
      "        fn increments_weights() {\n",
      "            let before = start_gzcl_4day(100);\n",
      "            let lift_incremented = before.days[0].lifts[3].clone();\n",
      "            assert_eq!(\n",
      "                lift_incremented.to_string(),\n",
      "                \"Face Pull -> 2x15,1x15-25 @ add20\"\n",
      "            );\n",
      "            let lift_not_incremented = before.days[0].lifts[4].clone();\n",
      "            assert_eq!(\n",
      "                lift_not_incremented.to_string(),\n",
      "\n",
      "\n",
      "METADATA:\n",
      "{'path': '../yawa/src/programs.rs'}\n",
      "<<<<<<<<<<<<<<<<<<<<<<<<<<<<<<<<<<<<<<<<<<<<<<<<<<<<<<<<<<<<<<<<<<<<<<<<<<<<<<<<<<<<<<<<<<<<<<<<\n"
     ]
    }
   ],
   "source": [
    "print(\"Searching embeddings goes brrr...\")\n",
    "print(\"    ...brrr... OpenAI money decreasing\")\n",
    "query = \"needs refactoring\"\n",
    "for entry in collection.similar(query, number=3):\n",
    "    print(\">>>>>>>>>>>>>>>>>>>>>>>>>>>>>>>>>>>>>>>>>>>>>>>>>>>>>>>>>>>>>>>>>>>>>>>>>>>>>>>>>>>>>>>>>>>>>>>>\")\n",
    "    # print(\"ENTRY ID and SCORE:\")\n",
    "    # print(entry.id, entry.score)\n",
    "    print(\"\\n\\nCODE:\")\n",
    "    print(entry.content)\n",
    "    print(\"\\n\\nMETADATA:\")\n",
    "    print(entry.metadata)\n",
    "    print(\"<<<<<<<<<<<<<<<<<<<<<<<<<<<<<<<<<<<<<<<<<<<<<<<<<<<<<<<<<<<<<<<<<<<<<<<<<<<<<<<<<<<<<<<<<<<<<<<<\")"
   ]
  },
  {
   "cell_type": "code",
   "execution_count": null,
   "id": "f5126fb6-0645-4a6c-9184-698730d2a1d3",
   "metadata": {},
   "outputs": [],
   "source": []
  }
 ],
 "metadata": {
  "kernelspec": {
   "display_name": "Python 3 (ipykernel)",
   "language": "python",
   "name": "python3"
  },
  "language_info": {
   "codemirror_mode": {
    "name": "ipython",
    "version": 3
   },
   "file_extension": ".py",
   "mimetype": "text/x-python",
   "name": "python",
   "nbconvert_exporter": "python",
   "pygments_lexer": "ipython3",
   "version": "3.12.5"
  }
 },
 "nbformat": 4,
 "nbformat_minor": 5
}
