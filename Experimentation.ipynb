{
 "cells": [
  {
   "cell_type": "code",
   "execution_count": 1,
   "id": "0c507a98-825a-46a5-acf6-27a357862e63",
   "metadata": {},
   "outputs": [],
   "source": [
    "import sys, os\n",
    "from pathlib import Path\n",
    "import llm, sqlite_utils\n",
    "from itertools import batched"
   ]
  },
  {
   "cell_type": "code",
   "execution_count": 2,
   "id": "400940b7-da50-4a1b-9c57-042f85ad9473",
   "metadata": {},
   "outputs": [
    {
     "name": "stdout",
     "output_type": "stream",
     "text": [
      "Environment check goes brrr...\n"
     ]
    }
   ],
   "source": [
    "print(\"Environment check goes brrr...\")\n",
    "assert(sys.executable.split('/')[-3] == 'conda-env')\n",
    "assert(os.environ.get('ENVIRONMENT_LOADED') == 'roombot')"
   ]
  },
  {
   "cell_type": "code",
   "execution_count": 3,
   "id": "e1b5e1ca-2a71-4aba-a0c9-240aace1febf",
   "metadata": {},
   "outputs": [
    {
     "name": "stdout",
     "output_type": "stream",
     "text": [
      "Database create (or load) goes brrr...\n",
      "   ...brrr... creating path if not exist\n",
      "   ...brrr... loading db\n"
     ]
    }
   ],
   "source": [
    "print(\"Database create (or load) goes brrr...\")\n",
    "\n",
    "print(\"   ...brrr... creating path if not exist\")\n",
    "db_dir = \"./db/\"\n",
    "Path(db_dir).mkdir(parents=True, exist_ok=True)\n",
    "\n",
    "print(\"   ...brrr... loading db\")\n",
    "db_file = db_dir + \"embeddings.db\"\n",
    "db = sqlite_utils.Database(db_file)"
   ]
  },
  {
   "cell_type": "code",
   "execution_count": 4,
   "id": "64b96f29-19aa-4e32-8503-a6c0bd14d2e8",
   "metadata": {},
   "outputs": [
    {
     "name": "stdout",
     "output_type": "stream",
     "text": [
      "Embeddings collection create (or load) goes brrr...\n",
      "   ...brrr... getting embedding model\n",
      "   ...brrr... deleting pre-existing embedding collection in db\n",
      "   ...brrr... creating embedding collection in db\n"
     ]
    }
   ],
   "source": [
    "print(\"Embeddings collection create (or load) goes brrr...\")\n",
    "\n",
    "print(\"   ...brrr... getting embedding model\")\n",
    "model_id = \"3-large\"\n",
    "embedding_model = llm.get_embedding_model(model_id)\n",
    "\n",
    "collection_name = \"code-collection\"\n",
    "\n",
    "if llm.Collection.exists(db, collection_name):\n",
    "    print(\"   ...brrr... deleting pre-existing embedding collection in db\")\n",
    "    collection = llm.Collection(collection_name, db, model=embedding_model)\n",
    "    collection.delete()\n",
    "    \n",
    "print(\"   ...brrr... creating embedding collection in db\")\n",
    "collection = llm.Collection(collection_name, db, model=embedding_model)\n"
   ]
  },
  {
   "cell_type": "code",
   "execution_count": 22,
   "id": "badeee6d-17dd-4f1b-8b37-580e2d771eeb",
   "metadata": {},
   "outputs": [
    {
     "name": "stdout",
     "output_type": "stream",
     "text": [
      "LLM model setup goes brrr...\n"
     ]
    }
   ],
   "source": [
    "print(\"LLM model setup goes brrr...\")\n",
    "llm_model = llm.get_model(\"gpt-4o\")"
   ]
  },
  {
   "cell_type": "code",
   "execution_count": 26,
   "id": "333d948b-0632-46c5-9181-8dc001bfe3ce",
   "metadata": {},
   "outputs": [
    {
     "name": "stdout",
     "output_type": "stream",
     "text": [
      "Reading code goes brrr...\n",
      "    ...brrr... Finding code to embed\n",
      "        ...brr... using directory: /home/ydhamija/Stuff/yawa/src/\n",
      "1 done\n",
      "2 done\n",
      "3 done\n",
      "4 done\n",
      "5 done\n",
      "6 done\n",
      "7 done\n",
      "8 done\n",
      "9 done\n",
      "10 done\n",
      "11 done\n",
      "12 done\n"
     ]
    },
    {
     "data": {
      "text/plain": [
       "[(0,\n",
       "  \"The provided code snippet offers a high-level overview of a Rust-based workout application, YAWA (Yet Another Workout App). Overall, the code structure appears to be organized into several logical modules, including adapters, controllers, services, lifting, and programs. This modular approach is beneficial for maintainability, as it promotes separation of concerns and encapsulation.\\n\\nHowever, without seeing the implementations of the modules themselves, it's difficult to assess the internal quality of the code regarding long-term maintainability, cleanliness, and performance. Key areas that may require attention include:\\n\\n1. **Documentation Quality:** While there are high-level comments explaining each module's purpose, the quality of in-code comments, function documentation, and usage examples needs to be assessed in the development of these modules.\\n\\n2. **Modularity and Complexity:** The extent to which each module adheres to single responsibility principles will impact maintainability. Each module should not grow too complex to ensure ease of modification and testing.\\n\\n3. **Performance Considerations:** While not visible in the provided snippet, performance issues may arise in the implementation details of adapters and services, especially if they interact with external systems.\\n\\n4. **Error Handling:** The robustness of the modules can significantly influence user experience and overall application stability. Effective error handling strategies should be employed.\\n\\n5. **Testing Coverage:** The snippet does not mention tests, which are crucial for ensuring quality, especially when refactoring code. It would be prudent to prioritize implementing or reviewing test coverage for all these modules.\\n\\nIn summary, while the initial structure appears to support maintainable code practices, further investigation into individual module implementations is necessary to identify specific quality issues that could impact long-term maintainability, cleanliness, and performance. Prioritization for refactoring should focus on ensuring adherence to best practices, adding comprehensive documentation, and bolstering error handling and testing mechanisms.\",\n",
       "  {'path': '/home/ydhamija/Stuff/yawa/src/lib.rs'}),\n",
       " (1,\n",
       "  \"The provided code appears to represent a significant part of a gym/lifting management system. It defines several data structures and their associated functionalities, primarily revolving around `WeightScheme`, `Set`, `Lift`, `LiftAttempt`, and `Day`. Here’s a breakdown of the code quality:\\n\\n### Code Quality Assessment:\\n\\n1. **Modularity and Structure**: \\n   - The code is well-structured, relying on Rust's features to define enums, structs, and methods cleanly. Each section of functionality (like parsing and formatting) is logically separated.\\n\\n2. **Readability**: \\n   - The use of descriptive names for enums and methods enhances readability. The inline comments explaining the purpose of functions and the examples in the doc comments serve to make the code easier to understand for future developers.\\n\\n3. **Error Handling**: \\n   - The code employs the `anyhow` crate for error handling, allowing for concise error propagation. However, the parsing functions could benefit from using more meaningful error messages that provide contextual information about what failed.\\n\\n4. **Performance**:\\n   - There are areas that could be improved for performance. For example, the use of `format!` for constructing strings within loops (in the `format` function) could potentially lead to unnecessary allocations. Consider using other techniques or more efficient data types such as `StringBuilder` where appropriate.\\n\\n5. **Repeated Code**:\\n   - The `parse` methods across different enums (`WeightScheme`, `Set`, etc.) share some similarities in their implementation patterns. Refactoring shared parsing logic could reduce code duplication and improve maintainability.\\n\\n6. **Use of Return Statements**: \\n   - In many functions, the `return` keyword is used unnecessarily; Rust can implicitly return the last evaluated expression. It can be removed for cleaner syntax.\\n\\n7. **Unit Tests**:\\n   - The presence of unit tests for various functionalities is a positive aspect. They cover parsing and formatting, but additional tests for edge cases and erroneous inputs could improve the robustness of the code.\\n\\n8. **Complexity**:\\n   - The `parse` methods might introduce complexity due to multiple branching conditions. Simplifying these functions or breaking them down could enhance maintainability. \\n\\n9. **Lack of Documentation**:\\n   - While there are some comments and examples, the overall documentation could be improved. Adding more detailed explanations of what each struct and method does, as well as how they interact with one another, would aid new developers.\\n\\n### Summary:\\nThis code is a solid foundation for a gym/lifting management application, but it has areas that need addressing for better maintainability, performance, and readability. Immediate actions for improvement could focus on refactoring repeated logic, simplifying parsing functions, and enhancing documentation. These improvements would contribute to easier long-term maintenance and would enhance the onboarding process for new team members.\",\n",
       "  {'path': '/home/ydhamija/Stuff/yawa/src/lifting.rs'}),\n",
       " (2,\n",
       "  \"The provided code demonstrates a moderately complex Rust implementation for managing a workout program. However, several issues indicate areas that require immediate attention regarding maintainability, cleanliness, and performance:\\n\\n1. **Code Structure and Readability**: The `Program` struct and its methods contain a mix of logic that can lead to confusion about their responsibilities. Methods like `complete_workout`, `increment_day`, and `increment_non_reference_weights` perform multiple operations that could be broken down into smaller, more cohesive functions, leading to improved readability and maintainability.\\n\\n2. **Immutability and Borrowing**: Most methods of `Program` take `self` as ownership, which leads to the creation of new `Program` instances. This could potentially increase memory usage and processing time, especially in performance-critical applications. Implementing methods that take `&mut self` or `&self` can enhance efficiency.\\n\\n3. **Error Handling and Edge Cases**: The code lacks robust error handling. For instance, the assumption that all functionalities (like `unwrap` in `Lift::parse`) succeed without providing alternate handling can lead to panic in production scenarios. Moreover, there are no checks or outputs in case of unexpected states such as invalid data lengths in `current_cycle_attempt_results`.\\n\\n4. **Use of Magic Values**: The code directly uses numeric literals (like `5`, `0`, `1`, etc.) without descriptive constants, making the code less readable and more error-prone. Defining these as constants with meaningful names will enhance clarity and maintainability.\\n\\n5. **Testing Focus**: The test suite appears to be robust, but there are areas where additional test cases should be added. For example, tests for boundary conditions (such as when `current_day` is at the edges of its range) or invalid scenarios would help ensure reliability and robustness.\\n\\n6. **Nested Logic in Methods**: Certain methods, such as `increment_non_reference_weights`, contain nested iterations and conditionals that reduce clarity. Reorganizing this logic into distinct helper functions may simplify understanding and future modification.\\n\\nIn summary, the code has fundamental functionality and contains helpful test coverage. Still, its structure and some coding practices hinder long-term maintainability and performance. Immediate refactoring of methods for clarity, improving resource management, enhancing error handling, and avoiding hardcoded values would benefit the project's overall code quality and maintainability. Prioritizing these areas will contribute significantly to a cleaner and more efficient codebase.\",\n",
       "  {'path': '/home/ydhamija/Stuff/yawa/src/programs.rs'}),\n",
       " (3,\n",
       "  'The provided code exhibits several characteristics that warrant attention, particularly with respect to maintainability, cleanliness, and performance. Below is a summary of the quality of the code:\\n\\n### Code Quality Summary\\n\\n1. **Structure and Organization**:\\n   - The code is generally well-structured, with distinct modules and clear delineation between types (`SerializableProgram`, `FileSystem`, etc.). However, the file could benefit from more modularization. Functions related to file operations (reading, writing) could be encapsulated in a separate utility module to improve separation of concerns.\\n\\n2. **Error Handling**:\\n   - The use of `Result` and the `anyhow` crate for error handling is commendable. However, error propagation could be made more explicit in some areas, particularly within closures where unwrapping and `.unwrap()` are used without clear context.\\n\\n3. **Unnecessary Complexity**:\\n   - The implementation of `SerializableProgram::from` and the use of `.iter().for_each` could be simplified to avoid unnecessary complexity, using more idiomatic constructs such as `.map()` and `.collect()`. For instance, building the `weights` HashMap could be achieved in a more concise manner.\\n\\n4. **Readability and Cleanliness**:\\n   - The code contains some areas that could improve readability. Use of descriptive variable names and consistent formatting would enhance clarity. For instance, in places like `let mut past_attempts: Vec<Vec<LiftAttemptResult>> = Vec::new();`, using the `vec![]` macro would be more idiomatic and concise.\\n\\n5. **Performance Optimization**:\\n   - Overall, the code appears to perform adequately for its current tasks, such as file reading and writing. However, repeated calls to `to_string()` on `Path` and `String` conversion could be unnecessary and may introduce performance overhead. Directly using a `Path` or `&str` in file operations could improve performance.\\n\\n6. **Testing**:\\n   - There are some unit tests present which is a good practice. However, the testing coverage appears limited to only serialization and deserialization. Additional unit tests for edge cases—such as error scenarios, empty inputs, or malformed data—would provide more robustness to the codebase.\\n\\n7. **Documentation and Comments**:\\n   - The code lacks comments and documentation, making it harder for other members of the team (or future maintainers) to understand the intent behind certain implementations or specific logic. Adding comments would greatly enhance the readability and maintainability of the code.\\n\\n### Prioritization Recommendations\\n\\n- **High Priority**: Address performance issues related to unnecessary conversions and complex constructs that affect readability and maintainability.\\n- **Medium Priority**: Enhance error handling clarity, and improve documentation and comments throughout the code to aid future maintainability.\\n- **Low Priority**: Extend testing coverage to include a wider range of scenarios, especially edge cases that may affect reliability. \\n\\nBy focusing on these areas, the team can significantly improve the overall quality and maintainability of the code.',\n",
       "  {'path': '/home/ydhamija/Stuff/yawa/src/adapters/filesystem.rs'}),\n",
       " (4,\n",
       "  'The provided code snippet appears to be a Rust module declaration consisting of two public modules: `filesystem` and `tui`. Here are a few observations regarding its quality:\\n\\n1. **Simplicity**: The code is straightforward, as it simply declares two modules without complex structures or logic. This simplicity can be beneficial for maintenance, especially in larger projects.\\n\\n2. **Clarity**: The purpose of the modules is not specified here, but if the module names are indicative of their functionality, `filesystem` likely deals with file operations while `tui` pertains to a text-based user interface. Clear naming conventions are a good practice for code readability.\\n\\n3. **Modularity**: The use of modules suggests a modular approach to code organization, which is positive for maintainability. Each module can encapsulate its functionality, promoting separation of concerns.\\n\\n4. **Lack of Detail**: Since the actual implementation details of the modules are not included, there’s no way to assess their internal quality in terms of logic, performance, or further organization.\\n\\n5. **No Comments**: The absence of comments makes it difficult to understand the intent or the functionality associated with these modules at a glance. Adding documentation could enhance future maintainability.\\n\\nIn summary, while this segment of code is clean and modular, its quality assessment is limited due to the lack of implementation details and documentation. Prioritization for review or refactoring might be necessary once the internal logic of the modules is available, especially if performance issues or complexity arise within them.',\n",
       "  {'path': '/home/ydhamija/Stuff/yawa/src/adapters/mod.rs'}),\n",
       " (5,\n",
       "  '### Code Quality Description\\n\\nThe provided code has several issues that negatively impact its maintainability, cleanliness, and performance:\\n\\n1. **Error Handling Inconsistencies**: While the code uses the `anyhow` crate for error handling, there is an inconsistent use of error types. For instance, `get_user_confirmation` returns a `Result<bool>`, while others return `Result<bool, anyhow::Error>`. This can introduce confusion and make it harder to unify error handling throughout the module.\\n\\n2. **Repetitive Code**: The functions `did_complete_lift` and `did_complete_maximum_reps` contain repetitive patterns for retrieving user input. This could be abstracted to reduce duplication and improve readability.\\n\\n3. **Infinite Loop in User Confirmation**: The `get_user_confirmation` function has an infinite loop without a mechanism to handle unexpected inputs beyond \"y\" and \"n\". This may cause the application to hang indefinitely if the user provides an invalid response. It would benefit from a user-friendly message and a way to exit the loop safely.\\n\\n4. **Inefficient User Input Handling**: The reading of input from stdin and handling it should be reconsidered. Each confirmation prompts a flush operation that could lead to performance bottlenecks when this happens frequently in the application.\\n\\n5. **Magic Strings**: The prompt strings, such as \"Did you complete: {}?\" and \"        ... were you able to achieve the maximum rep range?\", are hardcoded. Using constants or i18n support would improve maintainability and make these prompts easier to change or localize.\\n\\n6. **Lack of Unit Tests**: The code does not include any unit tests for the functions, which is critical for ensuring correctness, especially for user interaction parts that may behave differently based on user input.\\n\\n7. **Clarity and Documentation**: There is a lack of comments and documentation throughout the code. Clear documentation about the purpose of each function and the expected behaviors would significantly enhance understanding for future developers.\\n\\nOverall, this code shows good modular organization but has critical areas that require immediate attention for improving the robustness and maintainability of the project. Prioritizing refactoring efforts around error handling, user input management, and documentation would yield significant benefits.',\n",
       "  {'path': '/home/ydhamija/Stuff/yawa/src/adapters/tui.rs'}),\n",
       " (6,\n",
       "  \"The provided code demonstrates several notable characteristics related to its quality:\\n\\n1. **Clarity and Structure**: The code is relatively well-structured, with a clear separation between the `main` function and the `initialize_dependencies` function. This modularity promotes readability and maintainability, allowing developers to understand the application's flow at a glance.\\n\\n2. **Error Handling**: The use of the `anyhow` crate for error handling indicates a focus on robust error management. Returning `Result<()>` from `main` and handling potential errors with the `?` operator follows a clean approach to error propagation.\\n\\n3. **Dependency Injection**: The `initialize_dependencies` function effectively encapsulates the creation of dependencies, which can simplify testing and enhance modularity, although further details about how dependencies are utilized would be needed to assess this fully.\\n\\n4. **Use of Traits**: The implementation of `impl PersistenceAdapter` and `impl UserInputAdapter` in the `initialize_dependencies` function suggests an attention to abstraction, although it would be beneficial to confirm that these traits are being used effectively throughout the larger codebase.\\n\\n5. **Potential Issues**:\\n   - **Lack of Contextual Comments**: The code lacks comments explaining the purpose of major steps or decisions, which could hinder onboarding of new developers or contribute to knowledge silos within the team.\\n   - **Adapters Initialization**: While adapters are initialized in a separate function, the actual implementation and configuration of `file_system_adapter` and `tui_adapter` are not shown. If these adapters contain complex initialization logic, it may be beneficial to refactor this further for clarity.\\n   - **Unclear Error Types**: Although `anyhow` simplifies error handling, it obscures the specific error types that might arise from `initialize_dependencies` or the adapter creations. This may complicate debugging.\\n\\nOverall, while the code exhibits a solid baseline in terms of maintainability and structure, it would benefit from additional documentation and potential refactoring of the adapter initialization if it proves complex. Prioritizing improvements in documentation and review of adapter implementations should be considered for enhancing long-term maintainability.\",\n",
       "  {'path': '/home/ydhamija/Stuff/yawa/src/bin/yawa.rs'}),\n",
       " (7,\n",
       "  'The provided code exhibits a structure typical for a command-line application written in Rust, utilizing the `clap` library for argument parsing and following a modular design. However, there are several aspects to consider regarding its quality with respect to maintainability, cleanliness, and performance:\\n\\n1. **Code Clarity and Readability**:\\n   - The usage of comments is inconsistent. While some commands have descriptive comments outlining their purpose, others miss this context which can make understanding command functions harder.\\n   - The enums and struct definitions are clear and descriptive, but the command descriptions could benefit from more professionalism (e.g., the exclamation marks in the \"Start\" command could be toned down).\\n\\n2. **Error Handling**:\\n   - The code employs the `anyhow` crate for error handling, which is a good practice for maintaining it simple. However, there could be more granular error reporting depending on the failure context.\\n\\n3. **Performance**:\\n   - The `to_string` function creates an intermediate vector to collect the strings before joining them. While this approach works, it can be improved to reduce memory allocation by using an iterator directly with `join`.\\n\\n4. **Function Length**:\\n   - The individual functions are relatively concise, adhering well to the single-responsibility principle, which is favorable for maintainability.\\n\\n5. **Type Usage**:\\n   - The use of `impl Trait` for `persistence_adapter` and `user_input_adapter` parameters is a good approach as it allows for flexibility in types. However, documentation or comments detailing the expected behavior and constraints of these traits would be beneficial.\\n\\n6. **Overall Design**:\\n   - The design leverages functional programming principles effectively, chaining operations in a clear and concise manner. Nevertheless, the addition of more extensive documentation would improve comprehension for new team members or contributors.\\n\\n7. **Potential Improvements**:\\n   - Consider implementing logging instead of basic `println!` calls for better runtime traceability.\\n   - Review command descriptions for clarity and professionalism.\\n   - Optimize the string joining process in the `to_string` function.\\n\\nIn summary, while the code demonstrates a solid groundwork with good practices, it requires some refinements in documentation, error handling, and performance optimizations to enhance its overall quality and maintainability. Prioritizing these areas could yield significant long-term benefits for the project\\'s sustainability.',\n",
       "  {'path': '/home/ydhamija/Stuff/yawa/src/controllers/cli.rs'}),\n",
       " (8,\n",
       "  'The provided code snippet consists of a single line declaring a public module named `cli`. Since there are no additional lines of code, comments, or functionality on display, it is difficult to assess the quality of this specific code segment in terms of maintainability, cleanliness, or performance. \\n\\nHowever, here are some general observations regarding this code:\\n\\n1. **Modularity**: The declaration of a module (`pub mod cli;`) suggests an intention to organize code, which is a positive aspect for maintainability. Good modularity helps isolate concerns and improve readability.\\n\\n2. **Lack of Implementation**: Without further context or the actual implementation of the module, it is impossible to evaluate its code quality. The absence of functions, types, or documentation makes it difficult to assess clarity, complexity, or performance.\\n\\n3. **Potential for Improvement**: Since the module is declared but not defined in the snippet, it creates a gap. To facilitate prioritization for refactoring, more information regarding the implementation or usage of the `cli` module is necessary.\\n\\nIn summary, while the declaration itself is not problematic, the lack of content in this snippet indicates that further investigation into the actual code within the `cli` module is essential to fully assess its quality. It may be prudent to explore this module further, as it could contain significant amounts of code that impact maintainability and performance.',\n",
       "  {'path': '/home/ydhamija/Stuff/yawa/src/controllers/mod.rs'}),\n",
       " (9,\n",
       "  \"The provided code contains a minimal implementation of a Rust module, consisting solely of two module declarations: `pub mod ports;` and `pub mod service;`. \\n\\n### Quality Assessment:\\n\\n1. **Clarity and Cleanliness**: The code is succinct and adheres to Rust's module system conventions. However, without the implementation details of the `ports` and `service` modules, it is difficult to assess the clarity and maintainability of the code within these modules.\\n\\n2. **Maintainability**: The use of public modules suggests that these components may be critical to the project's API or functionality. The maintainability of this code depends largely on the organization and implementation details within the `ports` and `service` modules.\\n\\n3. **Performance**: There are no performance concerns present within this snippet due to its simplicity. Performance evaluations would need to focus on the content of the modules being referenced.\\n\\n### Conclusion:\\n\\nThis snippet does not exhibit any immediate issues but serves as a gateway to potentially complex implementations. Prioritization for refactoring should focus on the implementation of the `ports` and `service` modules. A deeper review of those modules is necessary to identify any maintainability, clarity, or performance concerns that could require attention.\",\n",
       "  {'path': '/home/ydhamija/Stuff/yawa/src/services/mod.rs'}),\n",
       " (10,\n",
       "  \"The provided code snippet encompasses two traits: `PersistenceAdapter` and `UserInputAdapter`, which appear to be part of a broader system involving program persistence and user input. \\n\\n### Code Quality Assessment:\\n\\n1. **Clarity and Structure**: \\n   - The code is well-structured, with clear trait definitions that outline the functionality associated with the respective adapter types. Each method's purpose is easily understandable, promoting transparency about the intended use of these traits.\\n\\n2. **Use of Types and Generics**:\\n   - The traits utilize generics (via `&self` and `Self`), which is a good practice for adding flexibility. However, `set_save_dir` returns `Self`, which can lead to complexities if not handled correctly in implementations.\\n\\n3. **Error Handling**:\\n   - The use of `anyhow::Result` for error handling suggests an awareness of potential failure points and provides a standard error handling mechanism across the implementation.\\n\\n4. **Naming Conventions**:\\n   - The naming of traits and methods follows Rust's conventions, making the code intuitive. Names like `set_save_dir`, `persist`, and `check_complete` describe their functions well.\\n\\n5. **Lack of Documentation**:\\n   - While the code is relatively straightforward, it lacks comments or documentation to explain the purpose and expected input/output for each method. This can hinder long-term maintainability, especially for new team members who may not be familiar with the context.\\n\\n6. **Potential Issues with State Management**:\\n   - The `set_save_dir` method's signature implies an interface for setting state. If implementations do not manage state appropriately, it could lead to unpredictable behaviors, as it returns a modified instance.\\n\\n7. **Single Responsibility Principle**:\\n   - Both traits adhere to the single responsibility principle, focusing on distinct aspects of functionality (persistence vs. user input).\\n\\n### Recommendations for Prioritization:\\n- **Immediate Attention**: Enhance documentation to clarify the purpose of each trait and method, including examples of expected inputs and outputs.\\n- **Medium Priority**: Evaluate and standardize state management in implementations of `set_save_dir` to prevent potential instabilities.\\n- **Low Priority**: While the overall structure and naming are solid, minor refinements can be made to ensure even greater clarity in method functionalities.\\n\\nOverall, while the code demonstrates a solid foundation with some best practices, improvements in documentation and state management would significantly enhance its maintainability and clarity.\",\n",
       "  {'path': '/home/ydhamija/Stuff/yawa/src/services/ports.rs'}),\n",
       " (11,\n",
       "  \"The provided code demonstrates several quality issues that impact its maintainability, readability, and performance. Here are the observations:\\n\\n1. **Error Handling**: The use of `anyhow!` for error messaging is reasonable, but the `not_started_error` function encapsulates the error message without allowing further context or different error types to be passed, which could lead to loss of important error-handling information. \\n\\n2. **Function Return Types**: Many functions return `impl PersistenceAdapter` for a type that can be confusing for maintainers. It might be beneficial to explicitly define return types, making the code easier to read and understand.\\n\\n3. **Redundant Return Statements**: The `apply_save_dir` and `start_and_save_new_program` functions use `return` statements unnecessarily. In Rust, it's common to simply express the final value directly; the explicit keyword can interfere with readability.\\n\\n4. **Potentially Expensive Operations**: The `complete_workout` function iterates over workout attempts and invokes `save_history` for each lift attempt. Depending on the underlying implementation of `save_history`, this could introduce performance bottlenecks if not managed correctly.\\n\\n5. **Inconsistent Function Naming**: Names of functions like `start_and_save_new_program` and `not_started_error` mixing different styles can create confusion. Adopt a consistent naming convention throughout.\\n\\n6. **Lack of Comments and Documentation**: The code lacks comments and documentation that explain the purpose of functions and the expected behavior. This makes it difficult for others in the team to quickly understand the intended functionality and usage.\\n\\n7. **Code Duplication**: There is a repetition of certain calls (like getting the program using `get_program`) scattered in multiple functions. It might be worthwhile to create a helper function to reduce redundancy and ensure consistent error handling.\\n\\n8. **Return Value Handling**: Functions like `next_workout` and `complete_workout` eventually deal with results but may not handle the cases where the lifting attempts are empty or invalid. More robust checks could enhance stability.\\n\\nIn summary, the code exhibits several areas for improvement concerning error handling, maintainability, readability, and potential performance issues. Prioritizing the refinement of function return types, reducing redundancy, and improving documentation will significantly enhance the overall quality of this codebase.\",\n",
       "  {'path': '/home/ydhamija/Stuff/yawa/src/services/service.rs'})]"
      ]
     },
     "execution_count": 26,
     "metadata": {},
     "output_type": "execute_result"
    }
   ],
   "source": [
    "print(\"Reading code goes brrr...\")\n",
    "\n",
    "print(\"    ...brrr... Finding code to embed\")\n",
    "code_dir = os.environ['ROOMBOT_CODE_DIR'].rstrip('/') + '/'\n",
    "to_embed = [\n",
    "    # (id, content_to_embed, metadata)\n",
    "]\n",
    "\n",
    "print(\"        ...brr... using directory:\", code_dir)\n",
    "i = 0\n",
    "for path in Path(code_dir).glob(\"**/*\"):\n",
    "    if path.is_file():\n",
    "        code = path.read_text()\n",
    "        # TODO: generate description of code's quality through LLM and embed that\n",
    "        response = llm_model.prompt(\"You are an expert code auditor, working as a member a large team. \"+\n",
    "                                    \"Your team is working on a project involving a large amount of code. \"+\n",
    "                                    \"Some of the code is known to be of poor quality in terms of long-term \"+\n",
    "                                    \"maintainability, cleanlieness, and performance. \"+\n",
    "                                    \"The team's goal is to prioritize which parts of the code require immediate \"+\n",
    "                                    \"attention and refactoring. You have been given the following code file,  \"+\n",
    "                                    \"delimited between `>>>>>>>>>` and `<<<<<<<<<`\"+\n",
    "                                    \"Your task is to write a short description of the quality of the code. \"+\n",
    "                                    \"These descriptions will later be used to prioritize the code. The code follows now: \"+\n",
    "                                    \">>>>>>>>>\\n\" + code + \"\\n<<<<<<<<<\")\n",
    "        code_description = (response.text())\n",
    "        to_embed.append((i, code_description, {\"path\": str(path)}))\n",
    "        i+=1\n",
    "        print(\"\" + str(i) + \" done\")\n",
    "\n",
    "# print(\"        ...brr... using hardcoded\")\n",
    "# to_embed = [\n",
    "#     (1, \"This is really good code.\", {\"path\": \"good\"}),\n",
    "#     (2, \"This is really bad code.\", {\"path\": \"bad\"}),\n",
    "# ]\n",
    "\n",
    "to_embed"
   ]
  },
  {
   "cell_type": "code",
   "execution_count": 27,
   "id": "c5a835aa-12a9-46e8-952c-706ba2da02e3",
   "metadata": {},
   "outputs": [
    {
     "name": "stdout",
     "output_type": "stream",
     "text": [
      "Embedding goes brrr...\n",
      "    ...brrr... Embedding into db collection\n",
      "        ...brrr... OpenAI money decreasing\n"
     ]
    }
   ],
   "source": [
    "print(\"Embedding goes brrr...\")\n",
    "print(\"    ...brrr... Embedding into db collection\")\n",
    "print(\"        ...brrr... OpenAI money decreasing\")\n",
    "collection.embed_multi_with_metadata(to_embed, store=True)"
   ]
  },
  {
   "cell_type": "code",
   "execution_count": 28,
   "id": "6b83ce5a-284c-473d-93f8-0fc80c70c9cf",
   "metadata": {},
   "outputs": [
    {
     "name": "stdout",
     "output_type": "stream",
     "text": [
      "Searching embeddings goes brrr...\n",
      "    ...brrr... OpenAI money decreasing\n",
      ">>>>>>>>>>>>>>>>>>>>>>>>>>>>>>>>>>>>>>>>>>>>>>>>>>>>>>>>>>>>>>>>>>>>>>>>>>>>>>>>>>>>>>>>>>>>>>>>\n",
      "ENTRY ID and SCORE:\n",
      "5 0.3685439548651149\n",
      "\n",
      "\n",
      "EMBEDDED CONTENT:\n",
      "### Code Quality Description\n",
      "\n",
      "The provided code has several issues that negatively impact its maintainability, cleanliness, and performance:\n",
      "\n",
      "1. **Error Handling Inconsistencies**: While the code uses the `anyhow` crate for error handling, there is an inconsistent use of error types. For instance, `get_user_confirmation` returns a `Result<bool>`, while others return `Result<bool, anyhow::Error>`. This can introduce confusion and make it harder to unify error handling throughout the module.\n",
      "\n",
      "2. **Repetitive Code**: The functions `did_complete_lift` and `did_complete_maximum_reps` contain repetitive patterns for retrieving user input. This could be abstracted to reduce duplication and improve readability.\n",
      "\n",
      "3. **Infinite Loop in User Confirmation**: The `get_user_confirmation` function has an infinite loop without a mechanism to handle unexpected inputs beyond \"y\" and \"n\". This may cause the application to hang indefinitely if the user provides an invalid response. It would benefit from a user-friendly message and a way to exit the loop safely.\n",
      "\n",
      "4. **Inefficient User Input Handling**: The reading of input from stdin and handling it should be reconsidered. Each confirmation prompts a flush operation that could lead to performance bottlenecks when this happens frequently in the application.\n",
      "\n",
      "5. **Magic Strings**: The prompt strings, such as \"Did you complete: {}?\" and \"        ... were you able to achieve the maximum rep range?\", are hardcoded. Using constants or i18n support would improve maintainability and make these prompts easier to change or localize.\n",
      "\n",
      "6. **Lack of Unit Tests**: The code does not include any unit tests for the functions, which is critical for ensuring correctness, especially for user interaction parts that may behave differently based on user input.\n",
      "\n",
      "7. **Clarity and Documentation**: There is a lack of comments and documentation throughout the code. Clear documentation about the purpose of each function and the expected behaviors would significantly enhance understanding for future developers.\n",
      "\n",
      "Overall, this code shows good modular organization but has critical areas that require immediate attention for improving the robustness and maintainability of the project. Prioritizing refactoring efforts around error handling, user input management, and documentation would yield significant benefits.\n",
      "\n",
      "\n",
      "METADATA:\n",
      "{'path': '/home/ydhamija/Stuff/yawa/src/adapters/tui.rs'}\n",
      "<<<<<<<<<<<<<<<<<<<<<<<<<<<<<<<<<<<<<<<<<<<<<<<<<<<<<<<<<<<<<<<<<<<<<<<<<<<<<<<<<<<<<<<<<<<<<<<<\n",
      ">>>>>>>>>>>>>>>>>>>>>>>>>>>>>>>>>>>>>>>>>>>>>>>>>>>>>>>>>>>>>>>>>>>>>>>>>>>>>>>>>>>>>>>>>>>>>>>>\n",
      "ENTRY ID and SCORE:\n",
      "2 0.36345034689836514\n",
      "\n",
      "\n",
      "EMBEDDED CONTENT:\n",
      "The provided code demonstrates a moderately complex Rust implementation for managing a workout program. However, several issues indicate areas that require immediate attention regarding maintainability, cleanliness, and performance:\n",
      "\n",
      "1. **Code Structure and Readability**: The `Program` struct and its methods contain a mix of logic that can lead to confusion about their responsibilities. Methods like `complete_workout`, `increment_day`, and `increment_non_reference_weights` perform multiple operations that could be broken down into smaller, more cohesive functions, leading to improved readability and maintainability.\n",
      "\n",
      "2. **Immutability and Borrowing**: Most methods of `Program` take `self` as ownership, which leads to the creation of new `Program` instances. This could potentially increase memory usage and processing time, especially in performance-critical applications. Implementing methods that take `&mut self` or `&self` can enhance efficiency.\n",
      "\n",
      "3. **Error Handling and Edge Cases**: The code lacks robust error handling. For instance, the assumption that all functionalities (like `unwrap` in `Lift::parse`) succeed without providing alternate handling can lead to panic in production scenarios. Moreover, there are no checks or outputs in case of unexpected states such as invalid data lengths in `current_cycle_attempt_results`.\n",
      "\n",
      "4. **Use of Magic Values**: The code directly uses numeric literals (like `5`, `0`, `1`, etc.) without descriptive constants, making the code less readable and more error-prone. Defining these as constants with meaningful names will enhance clarity and maintainability.\n",
      "\n",
      "5. **Testing Focus**: The test suite appears to be robust, but there are areas where additional test cases should be added. For example, tests for boundary conditions (such as when `current_day` is at the edges of its range) or invalid scenarios would help ensure reliability and robustness.\n",
      "\n",
      "6. **Nested Logic in Methods**: Certain methods, such as `increment_non_reference_weights`, contain nested iterations and conditionals that reduce clarity. Reorganizing this logic into distinct helper functions may simplify understanding and future modification.\n",
      "\n",
      "In summary, the code has fundamental functionality and contains helpful test coverage. Still, its structure and some coding practices hinder long-term maintainability and performance. Immediate refactoring of methods for clarity, improving resource management, enhancing error handling, and avoiding hardcoded values would benefit the project's overall code quality and maintainability. Prioritizing these areas will contribute significantly to a cleaner and more efficient codebase.\n",
      "\n",
      "\n",
      "METADATA:\n",
      "{'path': '/home/ydhamija/Stuff/yawa/src/programs.rs'}\n",
      "<<<<<<<<<<<<<<<<<<<<<<<<<<<<<<<<<<<<<<<<<<<<<<<<<<<<<<<<<<<<<<<<<<<<<<<<<<<<<<<<<<<<<<<<<<<<<<<<\n",
      ">>>>>>>>>>>>>>>>>>>>>>>>>>>>>>>>>>>>>>>>>>>>>>>>>>>>>>>>>>>>>>>>>>>>>>>>>>>>>>>>>>>>>>>>>>>>>>>>\n",
      "ENTRY ID and SCORE:\n",
      "11 0.3607627740301579\n",
      "\n",
      "\n",
      "EMBEDDED CONTENT:\n",
      "The provided code demonstrates several quality issues that impact its maintainability, readability, and performance. Here are the observations:\n",
      "\n",
      "1. **Error Handling**: The use of `anyhow!` for error messaging is reasonable, but the `not_started_error` function encapsulates the error message without allowing further context or different error types to be passed, which could lead to loss of important error-handling information. \n",
      "\n",
      "2. **Function Return Types**: Many functions return `impl PersistenceAdapter` for a type that can be confusing for maintainers. It might be beneficial to explicitly define return types, making the code easier to read and understand.\n",
      "\n",
      "3. **Redundant Return Statements**: The `apply_save_dir` and `start_and_save_new_program` functions use `return` statements unnecessarily. In Rust, it's common to simply express the final value directly; the explicit keyword can interfere with readability.\n",
      "\n",
      "4. **Potentially Expensive Operations**: The `complete_workout` function iterates over workout attempts and invokes `save_history` for each lift attempt. Depending on the underlying implementation of `save_history`, this could introduce performance bottlenecks if not managed correctly.\n",
      "\n",
      "5. **Inconsistent Function Naming**: Names of functions like `start_and_save_new_program` and `not_started_error` mixing different styles can create confusion. Adopt a consistent naming convention throughout.\n",
      "\n",
      "6. **Lack of Comments and Documentation**: The code lacks comments and documentation that explain the purpose of functions and the expected behavior. This makes it difficult for others in the team to quickly understand the intended functionality and usage.\n",
      "\n",
      "7. **Code Duplication**: There is a repetition of certain calls (like getting the program using `get_program`) scattered in multiple functions. It might be worthwhile to create a helper function to reduce redundancy and ensure consistent error handling.\n",
      "\n",
      "8. **Return Value Handling**: Functions like `next_workout` and `complete_workout` eventually deal with results but may not handle the cases where the lifting attempts are empty or invalid. More robust checks could enhance stability.\n",
      "\n",
      "In summary, the code exhibits several areas for improvement concerning error handling, maintainability, readability, and potential performance issues. Prioritizing the refinement of function return types, reducing redundancy, and improving documentation will significantly enhance the overall quality of this codebase.\n",
      "\n",
      "\n",
      "METADATA:\n",
      "{'path': '/home/ydhamija/Stuff/yawa/src/services/service.rs'}\n",
      "<<<<<<<<<<<<<<<<<<<<<<<<<<<<<<<<<<<<<<<<<<<<<<<<<<<<<<<<<<<<<<<<<<<<<<<<<<<<<<<<<<<<<<<<<<<<<<<<\n"
     ]
    }
   ],
   "source": [
    "print(\"Searching embeddings goes brrr...\")\n",
    "print(\"    ...brrr... OpenAI money decreasing\")\n",
    "query = \"This code needs to be refactored.\"\n",
    "for entry in collection.similar(query, number=3):\n",
    "    print(\">>>>>>>>>>>>>>>>>>>>>>>>>>>>>>>>>>>>>>>>>>>>>>>>>>>>>>>>>>>>>>>>>>>>>>>>>>>>>>>>>>>>>>>>>>>>>>>>\")\n",
    "    print(\"ENTRY ID and SCORE:\")\n",
    "    print(entry.id, entry.score)\n",
    "    print(\"\\n\\nEMBEDDED CONTENT:\")\n",
    "    print(entry.content)\n",
    "    print(\"\\n\\nMETADATA:\")\n",
    "    print(entry.metadata)\n",
    "    print(\"<<<<<<<<<<<<<<<<<<<<<<<<<<<<<<<<<<<<<<<<<<<<<<<<<<<<<<<<<<<<<<<<<<<<<<<<<<<<<<<<<<<<<<<<<<<<<<<<\")"
   ]
  },
  {
   "cell_type": "code",
   "execution_count": null,
   "id": "f5126fb6-0645-4a6c-9184-698730d2a1d3",
   "metadata": {},
   "outputs": [],
   "source": []
  }
 ],
 "metadata": {
  "kernelspec": {
   "display_name": "Python 3 (ipykernel)",
   "language": "python",
   "name": "python3"
  },
  "language_info": {
   "codemirror_mode": {
    "name": "ipython",
    "version": 3
   },
   "file_extension": ".py",
   "mimetype": "text/x-python",
   "name": "python",
   "nbconvert_exporter": "python",
   "pygments_lexer": "ipython3",
   "version": "3.12.6"
  }
 },
 "nbformat": 4,
 "nbformat_minor": 5
}
