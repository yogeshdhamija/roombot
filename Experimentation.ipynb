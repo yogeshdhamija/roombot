{
 "cells": [
  {
   "cell_type": "code",
   "execution_count": 2,
   "id": "0c507a98-825a-46a5-acf6-27a357862e63",
   "metadata": {},
   "outputs": [],
   "source": [
    "import sys, os\n",
    "from pathlib import Path\n",
    "import llm, sqlite_utils"
   ]
  },
  {
   "cell_type": "code",
   "execution_count": 3,
   "id": "400940b7-da50-4a1b-9c57-042f85ad9473",
   "metadata": {},
   "outputs": [
    {
     "name": "stdout",
     "output_type": "stream",
     "text": [
      "Environment check goes brrr...\n"
     ]
    }
   ],
   "source": [
    "print(\"Environment check goes brrr...\")\n",
    "assert(sys.executable.split('/')[-3] == 'conda-env')\n",
    "assert(os.environ.get('ENVIRONMENT_LOADED') == 'roombot')"
   ]
  },
  {
   "cell_type": "code",
   "execution_count": 4,
   "id": "e1b5e1ca-2a71-4aba-a0c9-240aace1febf",
   "metadata": {},
   "outputs": [
    {
     "name": "stdout",
     "output_type": "stream",
     "text": [
      "Database create (or load) goes brrr...\n",
      "   ...brrr... creating path if not exist\n",
      "   ...brrr... loading db\n"
     ]
    }
   ],
   "source": [
    "print(\"Database create (or load) goes brrr...\")\n",
    "\n",
    "print(\"   ...brrr... creating path if not exist\")\n",
    "db_dir = \"./db/\"\n",
    "Path(db_dir).mkdir(parents=True, exist_ok=True)\n",
    "\n",
    "print(\"   ...brrr... loading db\")\n",
    "db_file = db_dir + \"embeddings.db\"\n",
    "db = sqlite_utils.Database(db_file)"
   ]
  },
  {
   "cell_type": "code",
   "execution_count": 5,
   "id": "64b96f29-19aa-4e32-8503-a6c0bd14d2e8",
   "metadata": {},
   "outputs": [
    {
     "name": "stdout",
     "output_type": "stream",
     "text": [
      "Embeddings collection create (or load) goes brrr...\n",
      "   ...brrr... getting embedding model\n",
      "   ...brrr... loading (or creating) embedding collection from db\n"
     ]
    }
   ],
   "source": [
    "print(\"Embeddings collection create (or load) goes brrr...\")\n",
    "\n",
    "print(\"   ...brrr... getting embedding model\")\n",
    "model_id = \"3-small\"\n",
    "model = llm.get_embedding_model(model_id)\n",
    "\n",
    "print(\"   ...brrr... loading (or creating) embedding collection from db\")\n",
    "collection_name = \"code-collection\"\n",
    "collection = llm.Collection(collection_name, db, model=model)"
   ]
  },
  {
   "cell_type": "code",
   "execution_count": 7,
   "id": "b4bcf186-2b0d-4c6d-9658-b19b3b3ebe2b",
   "metadata": {},
   "outputs": [
    {
     "name": "stdout",
     "output_type": "stream",
     "text": [
      "Embedding goes brrr...\n",
      "    ...brrr... Finding code to embed\n",
      "        ...brr... using directory: ../yawa/src/\n",
      "            ...brr... TODO: ignoring directory and using hardcoded values\n",
      "    ...brrr... Embedding into db collection (overwrite all existing)\n",
      "        ...brrr... OpenAI money decreasing\n"
     ]
    }
   ],
   "source": [
    "print(\"Embedding goes brrr...\")\n",
    "\n",
    "print(\"    ...brrr... Finding code to embed\")\n",
    "code_dir = os.environ['ROOMBOT_CODE_DIR'].rstrip('/') + '/'\n",
    "print(\"        ...brr... using directory:\", code_dir)\n",
    "print(\"            ...brr... TODO: ignoring directory and using hardcoded values\")\n",
    "to_embed = [\n",
    "    # id, code, metadata\n",
    "    (\"1\", \"// good code\", {}),\n",
    "    (\"2\", \"// bad code\", {})\n",
    "]\n",
    "\n",
    "print(\"    ...brrr... Embedding into db collection (overwrite all existing)\")\n",
    "print(\"        ...brrr... OpenAI money decreasing\")\n",
    "collection.embed_multi_with_metadata(to_embed, store=True)"
   ]
  },
  {
   "cell_type": "code",
   "execution_count": 8,
   "id": "6b83ce5a-284c-473d-93f8-0fc80c70c9cf",
   "metadata": {},
   "outputs": [
    {
     "name": "stdout",
     "output_type": "stream",
     "text": [
      "Searching embeddings goes brrr...\n",
      "    ...brrr... OpenAI money decreasing\n",
      "\n",
      "\n",
      "ENTRY ID and SCORE:\n",
      "2 0.3185897734199054\n",
      "\n",
      "\n",
      "CODE:\n",
      "// bad code\n",
      "\n",
      "\n",
      "METADATA:\n",
      "None\n"
     ]
    }
   ],
   "source": [
    "print(\"Searching embeddings goes brrr...\")\n",
    "print(\"    ...brrr... OpenAI money decreasing\")\n",
    "query = \"needs refactoring\"\n",
    "for entry in collection.similar(query, number=1):\n",
    "    print(\"\\n\\nENTRY ID and SCORE:\")\n",
    "    print(entry.id, entry.score)\n",
    "    print(\"\\n\\nCODE:\")\n",
    "    print(entry.content)\n",
    "    print(\"\\n\\nMETADATA:\")\n",
    "    print(entry.metadata)"
   ]
  },
  {
   "cell_type": "code",
   "execution_count": null,
   "id": "f5126fb6-0645-4a6c-9184-698730d2a1d3",
   "metadata": {},
   "outputs": [],
   "source": []
  }
 ],
 "metadata": {
  "kernelspec": {
   "display_name": "Python 3 (ipykernel)",
   "language": "python",
   "name": "python3"
  },
  "language_info": {
   "codemirror_mode": {
    "name": "ipython",
    "version": 3
   },
   "file_extension": ".py",
   "mimetype": "text/x-python",
   "name": "python",
   "nbconvert_exporter": "python",
   "pygments_lexer": "ipython3",
   "version": "3.12.5"
  }
 },
 "nbformat": 4,
 "nbformat_minor": 5
}
